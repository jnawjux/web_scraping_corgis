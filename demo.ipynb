{
 "cells": [
  {
   "cell_type": "code",
   "execution_count": 1,
   "metadata": {},
   "outputs": [],
   "source": [
    "import pandas as pd\n",
    "import urllib.request\n",
    "from collections import Counter\n",
    "from insta_scrape import recent_post_links, insta_link_details, insta_url_to_img"
   ]
  },
  {
   "cell_type": "markdown",
   "metadata": {},
   "source": [
    "### Corgis of Instagram!\n",
    "For a fun scraping project, I decided to pull the most recent posts from a bunch of prominent Corgis of Instagram to see their comparative performance and some of the hastags they used to help promote their posts. "
   ]
  },
  {
   "cell_type": "markdown",
   "metadata": {},
   "source": [
    "#### The functions being used do the following:\n",
    "* recent_post_links: scrapes the most recent Instagram posts and grabs their urls (number determined by input)\n",
    "* insta_link_details: takes the list of links and returns a list of dictionaries with details for each post, including:\n",
    "    - link - the original link of the post\n",
    "    - type - whether a video or photo\n",
    "    - likes/views - count of likes or views for item\n",
    "    - age - when posted (absolute time given for older posts, it goes by XX AGO for the for about a week\n",
    "    - comment - initial comment from poster\n",
    "    - hashtags - any hashtags, extracted from comment\n",
    "    - mentions - any mentions, extracted from comment"
   ]
  },
  {
   "cell_type": "markdown",
   "metadata": {},
   "source": [
    "#### Sneakers (135k followers)"
   ]
  },
  {
   "cell_type": "code",
   "execution_count": 2,
   "metadata": {},
   "outputs": [],
   "source": [
    "sneakers_urls = recent_post_links('sneakersthecorgi', post_count=10)"
   ]
  },
  {
   "cell_type": "markdown",
   "metadata": {},
   "source": [
    "Just validating in this first run that it is working:"
   ]
  },
  {
   "cell_type": "code",
   "execution_count": 3,
   "metadata": {},
   "outputs": [
    {
     "name": "stdout",
     "output_type": "stream",
     "text": [
      "['https://www.instagram.com/p/CDoo3g0gYX4/', 'https://www.instagram.com/p/CDe-UZ1gRqE/', 'https://www.instagram.com/p/CDWlFW5g4UO/', 'https://www.instagram.com/p/CDT7wkLAHwu/', 'https://www.instagram.com/p/CDRexRGgqB2/', 'https://www.instagram.com/p/CDPQWIagwBq/', 'https://www.instagram.com/p/CDJm8uPAPwc/', 'https://www.instagram.com/p/CDHl0ZVAZ1o/', 'https://www.instagram.com/p/CC95lKLAw5T/', 'https://www.instagram.com/p/CC1XaE8Ayo8/']\n"
     ]
    }
   ],
   "source": [
    "print(sneakers_urls)"
   ]
  },
  {
   "cell_type": "markdown",
   "metadata": {},
   "source": [
    "Great! Now we run our function to get link details, then throw in a dataframe to view better."
   ]
  },
  {
   "cell_type": "code",
   "execution_count": 4,
   "metadata": {},
   "outputs": [],
   "source": [
    "sneakers_details = [insta_link_details(url) for url in sneakers_urls]"
   ]
  },
  {
   "cell_type": "code",
   "execution_count": 5,
   "metadata": {},
   "outputs": [
    {
     "data": {
      "text/html": [
       "<div>\n",
       "<style scoped>\n",
       "    .dataframe tbody tr th:only-of-type {\n",
       "        vertical-align: middle;\n",
       "    }\n",
       "\n",
       "    .dataframe tbody tr th {\n",
       "        vertical-align: top;\n",
       "    }\n",
       "\n",
       "    .dataframe thead th {\n",
       "        text-align: right;\n",
       "    }\n",
       "</style>\n",
       "<table border=\"1\" class=\"dataframe\">\n",
       "  <thead>\n",
       "    <tr style=\"text-align: right;\">\n",
       "      <th></th>\n",
       "      <th>age</th>\n",
       "      <th>comment</th>\n",
       "      <th>hashtags</th>\n",
       "      <th>likes/views</th>\n",
       "      <th>link</th>\n",
       "      <th>mentions</th>\n",
       "      <th>type</th>\n",
       "    </tr>\n",
       "  </thead>\n",
       "  <tbody>\n",
       "    <tr>\n",
       "      <th>0</th>\n",
       "      <td>3d</td>\n",
       "      <td>my hoomin recently redecorated my room! we add...</td>\n",
       "      <td>[#minted, #sneakersthecorgi]</td>\n",
       "      <td>2,495</td>\n",
       "      <td>https://www.instagram.com/p/CDoo3g0gYX4/</td>\n",
       "      <td>@minted</td>\n",
       "      <td>photo</td>\n",
       "    </tr>\n",
       "    <tr>\n",
       "      <th>1</th>\n",
       "      <td>6d</td>\n",
       "      <td>took a dna test 🧪 turns out I'm at least 50% b...</td>\n",
       "      <td>#sneakersthecorgi</td>\n",
       "      <td>3,560</td>\n",
       "      <td>https://www.instagram.com/p/CDe-UZ1gRqE/</td>\n",
       "      <td></td>\n",
       "      <td>photo</td>\n",
       "    </tr>\n",
       "    <tr>\n",
       "      <th>2</th>\n",
       "      <td>1w</td>\n",
       "      <td>some things are better in bed: 🍕 eating, 📘 rea...</td>\n",
       "      <td>[#ad, #mybrooklinenstyle, #brooklinen]</td>\n",
       "      <td>3,718</td>\n",
       "      <td>https://www.instagram.com/p/CDWlFW5g4UO/</td>\n",
       "      <td>@brooklinen</td>\n",
       "      <td>photo</td>\n",
       "    </tr>\n",
       "    <tr>\n",
       "      <th>3</th>\n",
       "      <td>1w</td>\n",
       "      <td>me when someone tells me i need to grow up 😛 v...</td>\n",
       "      <td>#sneakersthecorgi</td>\n",
       "      <td>3,554</td>\n",
       "      <td>https://www.instagram.com/p/CDT7wkLAHwu/</td>\n",
       "      <td></td>\n",
       "      <td>photo</td>\n",
       "    </tr>\n",
       "    <tr>\n",
       "      <th>4</th>\n",
       "      <td>1w</td>\n",
       "      <td>doesn't matter where we go as long as we go to...</td>\n",
       "      <td>#sneakersthecorgi</td>\n",
       "      <td>1,885</td>\n",
       "      <td>https://www.instagram.com/p/CDRexRGgqB2/</td>\n",
       "      <td></td>\n",
       "      <td>photo</td>\n",
       "    </tr>\n",
       "  </tbody>\n",
       "</table>\n",
       "</div>"
      ],
      "text/plain": [
       "  age                                            comment  \\\n",
       "0  3d  my hoomin recently redecorated my room! we add...   \n",
       "1  6d  took a dna test 🧪 turns out I'm at least 50% b...   \n",
       "2  1w  some things are better in bed: 🍕 eating, 📘 rea...   \n",
       "3  1w  me when someone tells me i need to grow up 😛 v...   \n",
       "4  1w  doesn't matter where we go as long as we go to...   \n",
       "\n",
       "                                 hashtags likes/views  \\\n",
       "0            [#minted, #sneakersthecorgi]       2,495   \n",
       "1                       #sneakersthecorgi       3,560   \n",
       "2  [#ad, #mybrooklinenstyle, #brooklinen]       3,718   \n",
       "3                       #sneakersthecorgi       3,554   \n",
       "4                       #sneakersthecorgi       1,885   \n",
       "\n",
       "                                       link     mentions   type  \n",
       "0  https://www.instagram.com/p/CDoo3g0gYX4/      @minted  photo  \n",
       "1  https://www.instagram.com/p/CDe-UZ1gRqE/               photo  \n",
       "2  https://www.instagram.com/p/CDWlFW5g4UO/  @brooklinen  photo  \n",
       "3  https://www.instagram.com/p/CDT7wkLAHwu/               photo  \n",
       "4  https://www.instagram.com/p/CDRexRGgqB2/               photo  "
      ]
     },
     "execution_count": 5,
     "metadata": {},
     "output_type": "execute_result"
    }
   ],
   "source": [
    "sneakers = pd.DataFrame(sneakers_details)\n",
    "sneakers.head()"
   ]
  },
  {
   "cell_type": "markdown",
   "metadata": {},
   "source": [
    "Just so we can preserve the results of this scrape and evaluate later, we can output to a csv:"
   ]
  },
  {
   "cell_type": "code",
   "execution_count": 6,
   "metadata": {},
   "outputs": [],
   "source": [
    "sneakers.to_csv('csv/sneakers_08_11_20.csv')"
   ]
  },
  {
   "cell_type": "markdown",
   "metadata": {},
   "source": [
    "Awesome! You can run other accounts to see and compare."
   ]
  },
  {
   "cell_type": "markdown",
   "metadata": {},
   "source": [
    "### Bonus: How to extract the photo:"
   ]
  },
  {
   "cell_type": "code",
   "execution_count": 2,
   "metadata": {},
   "outputs": [],
   "source": [
    "insta_url_to_img('https://www.instagram.com/p/B4QgOculBLy/', filename='sneakers.jpg')"
   ]
  }
 ],
 "metadata": {
  "kernelspec": {
   "display_name": "Python 3",
   "language": "python",
   "name": "python3"
  },
  "language_info": {
   "codemirror_mode": {
    "name": "ipython",
    "version": 3
   },
   "file_extension": ".py",
   "mimetype": "text/x-python",
   "name": "python",
   "nbconvert_exporter": "python",
   "pygments_lexer": "ipython3",
   "version": "3.7.1"
  }
 },
 "nbformat": 4,
 "nbformat_minor": 2
}
